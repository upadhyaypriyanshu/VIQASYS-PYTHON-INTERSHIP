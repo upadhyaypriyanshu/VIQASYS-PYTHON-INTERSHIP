{
 "cells": [
  {
   "cell_type": "markdown",
   "metadata": {},
   "source": [
    "___\n",
    "\n",
    "<a href='https://viqasys.com/wp-content/uploads/2021/07/ns1.png'><img src='https://viqasys.com/wp-content/uploads/2021/07/ns1.png'/></a>\n",
    "___\n",
    "<center><em>Content Copyright VIQASYS INNOVATIONS PVT LTD.</em></center>\n",
    "\n",
    "# Assignment 1"
   ]
  },
  {
   "cell_type": "markdown",
   "metadata": {},
   "source": [
    "# Question 1\n",
    "\n",
    "In the below elements, identify which of them are values or expressions. Values can be integers or strings, while expressions will be mathematical operators or combinations thereof.\n",
    "'hello', \n",
    "-87., ), o, lu, alu, ssion)'(Value))str\" (Value)"
   ]
  },
  {
   "cell_type": "markdown",
   "metadata": {},
   "source": [
    "1. values :\n",
    " 'hello' = string\n",
    " -87. = floating-point number\n",
    " (value))str\" = string \n",
    "2. expression\n",
    " ) = closing Parenthesis\n",
    " o = expression place holder or variable name \n",
    " lu =  expression place holder or variable name\n",
    " alu =  expression place holder or variable name\n",
    " ssion = expression place holder or variable name\n",
    " (-)= minus sign (mathematical operator)\n",
    " str (value) = Function call "
   ]
  },
  {
   "cell_type": "markdown",
   "metadata": {},
   "source": [
    "## Question 2\n",
    "\n",
    "Explain the difference between a string and a variable.\n"
   ]
  },
  {
   "cell_type": "markdown",
   "metadata": {},
   "source": [
    "1. STRING \n",
    "\n",
    " 1.A string is a datatype used to reprresent text in programming .\n",
    " 2.It consists of a sequence of character , such as letter, numbers, enclosed with single quotes ('),double Qoutes (\" \"), and triple Quotes (''' ''').\n",
    " 3.strings are immutable , meaning they cannot be changed once they are created. Any operation that appears to modify a string actually creates  a new srting.\n",
    " 4.Examples of strings : \"hello\",'123', \"This is a string!\",etc.\n",
    " \n",
    " \n",
    " 2. VARIABLES\n",
    " \n",
    "1.A variable is a symbolic name that represents or refers to a value stored in the computer's memory.\n",
    "2.Variables are used to store data values that can be manipulated and referenced in a program.\n",
    "3.Variables have a data type associated with them, which determines the type of data they can store (e.g., integer, string, floating-point number, etc.).\n",
    "4.Variables can be assigned different values during the execution of a program.\n",
    "5.Examples of variables: x, name, age, pi, etc.\n",
    "     "
   ]
  },
  {
   "cell_type": "markdown",
   "metadata": {},
   "source": [
    "## Question 3\n",
    "Describe three different data types commonly used in programming"
   ]
  },
  {
   "cell_type": "markdown",
   "metadata": {},
   "source": [
    "Here are three common data types used in programming:\n",
    "\n",
    "1. Integer (int):\n",
    "\n",
    ". Integers represent whole numbers without any fractional part.\n",
    ". They can be positive, negative, or zero.\n",
    ". Examples of integers: 5, -10, 0, 100, etc.\n",
    ". Integers are commonly used for counting, indexing, and representing discrete quantities.\n",
    "\n",
    "2. String (str):\n",
    "\n",
    ". Strings represent sequences of characters, such as letters, numbers, symbols, or spaces.\n",
    ". They are enclosed within single quotes (' '), double quotes (\" \"), or    triple quotes (''' ''').\n",
    ". Examples of strings: \"hello\", '123', \"This is a string!\", etc.\n",
    ". Strings are commonly used for representing textual data, such as names, sentences, and file contents.\n",
    "\n",
    "3. Floating-point number (float):\n",
    "\n",
    ". Floating-point numbers represent numbers that have a fractional part.\n",
    ". They can represent both rational and irrational numbers.\n",
    ". Examples of floating-point numbers: 3.14, -0.5, 2.71828, etc.\n",
    ". Floating-point numbers are commonly used for representing measurements, scientific data, and calculations involving real numbers."
   ]
  },
  {
   "cell_type": "markdown",
   "metadata": {},
   "source": [
    "## Question 4\n",
    "What is an expression made up of? What is the general purpose of expressions?\n"
   ]
  },
  {
   "cell_type": "markdown",
   "metadata": {},
   "source": [
    "An expression in Python is made up of one or more values combined with operators that can be evaluated to produce a result. It can include literals (like numbers or strings), variables, function calls, and operators (such as arithmetic operators, comparison operators, logical operators, etc.).\n",
    "\n",
    "The general purpose of expressions in Python is to compute or produce a value. They are used extensively in programming to perform calculations, make decisions, manipulate data, and control the flow of execution in a program."
   ]
  },
  {
   "cell_type": "markdown",
   "metadata": {},
   "source": [
    "## Question 5\n",
    "\n",
    "Explain the difference between an expression and a statement, using examples if necessary."
   ]
  },
  {
   "cell_type": "code",
   "execution_count": null,
   "metadata": {},
   "outputs": [],
   "source": [
    "1.Expression: \n",
    "   .  An expression is a piece of code that evaluates to a value. \n",
    "   .  It can be a combination of variables, literals, operators, and function calls that results in a single value. \n",
    "   .  Examples: 2 + 3, x * 5, len(\"hello\").\n",
    "\n",
    "2. Statement: \n",
    "   .  A statement is a complete instruction that performs some action. \n",
    "   .  It can be a single line or a block of code. \n",
    "   .  Statements can include expressions, but they also control the flow of execution in a program.\n",
    "   .  Examples: assignment statement x = 5, conditional statement if x > 0:, loop statement for item in list:."
   ]
  },
  {
   "cell_type": "markdown",
   "metadata": {},
   "source": [
    "## Question 6\n",
    "After running the following code, what does the variable \"bacon\" contain?\n",
    "\n",
    "bacon = 22 <br>\n",
    "\n",
    "bacon + 1"
   ]
  },
  {
   "cell_type": "code",
   "execution_count": 1,
   "metadata": {},
   "outputs": [
    {
     "data": {
      "text/plain": [
       "23"
      ]
     },
     "execution_count": 1,
     "metadata": {},
     "output_type": "execute_result"
    }
   ],
   "source": [
    "bacon = 22 \n",
    "bacon+1 "
   ]
  },
  {
   "cell_type": "markdown",
   "metadata": {},
   "source": [
    "The bacon variable containing the value 23. It is incrementing by 1 of the given value of bacon."
   ]
  },
  {
   "cell_type": "markdown",
   "metadata": {},
   "source": [
    "## Question 7\n",
    "Determine the values of the following two terms:<br>\n",
    "'spam' + 'spamspam'<br>\n",
    "'spam' * 3\n",
    "\n"
   ]
  },
  {
   "cell_type": "code",
   "execution_count": 2,
   "metadata": {},
   "outputs": [
    {
     "data": {
      "text/plain": [
       "'spamspamspam'"
      ]
     },
     "execution_count": 2,
     "metadata": {},
     "output_type": "execute_result"
    }
   ],
   "source": [
    "'spam'+ 'spamspam'\n"
   ]
  },
  {
   "cell_type": "markdown",
   "metadata": {},
   "source": [
    "The value of the given code 'spam'+ 'spamspam' is 'spamspamspam'"
   ]
  },
  {
   "cell_type": "code",
   "execution_count": 3,
   "metadata": {},
   "outputs": [
    {
     "data": {
      "text/plain": [
       "'spamspamspam'"
      ]
     },
     "execution_count": 3,
     "metadata": {},
     "output_type": "execute_result"
    }
   ],
   "source": [
    "'spam'*3"
   ]
  },
  {
   "cell_type": "markdown",
   "metadata": {},
   "source": [
    "The value of the given code 'spam'*3 is'spamspamspam'"
   ]
  },
  {
   "cell_type": "markdown",
   "metadata": {},
   "source": [
    "## Question 8\n",
    "\n",
    "Why is \"eggs\" a valid variable name while \"100\" is invalid?"
   ]
  },
  {
   "cell_type": "markdown",
   "metadata": {},
   "source": [
    "In Python, variable names must adhere to certain rules to be considered valid:\n",
    "\n",
    "1.Variable names can only contain letters (a-z, A-Z), digits (0-9), and underscores (_).\n",
    "2.Variable names cannot begin with a digit.\n",
    "3.Variable names are case-sensitive.\n",
    "4.Variable names cannot be Python keywords or reserved words\n",
    "\n",
    "Given these rules:\n",
    "\n",
    "1.\"eggs\" is a valid variable name because it consists of letters only and does not begin with a digit.\n",
    "\n",
    "2.\"100\" is invalid because it begins with a digit, violating the rule that variable names cannot start with a digit."
   ]
  },
  {
   "cell_type": "markdown",
   "metadata": {},
   "source": [
    "## Question 9\n",
    "\n",
    "List three functions that can be used to obtain the integer, floating-point number, or string version of a value."
   ]
  },
  {
   "cell_type": "markdown",
   "metadata": {},
   "source": [
    "The three functions to obtain the integer, floating-point number, or string version of a value in Python:\n",
    "\n",
    "1. Integer Conversion Function: int()\n",
    "\n",
    "This function converts a value to an integer. It can convert numeric strings or floating-point numbers to integers.\n",
    "Example: int('10') will return the integer 10.\n",
    "\n",
    "\n",
    "2. Floating-Point Conversion Function: float()\n",
    "\n",
    "This function converts a value to a floating-point number. It can convert integer values or numeric strings to floating-point numbers.\n",
    "Example: float(5) will return the floating-point number 5.0.\n",
    "\n",
    "\n",
    "3. String Conversion Function: str()\n",
    "\n",
    "This function converts a value to a string. It can convert integers, floating-point numbers, or any other data type to strings.\n",
    "Example: str(3.14) will return the string '3.14'.\n",
    "    "
   ]
  },
  {
   "cell_type": "markdown",
   "metadata": {},
   "source": [
    "## Question 10 \n",
    "Explain why the following expression causes an error and suggest how to fix it:<br>\n",
    "'I have eaten ' + 99 + ' burritos.'\n",
    "\n"
   ]
  },
  {
   "cell_type": "code",
   "execution_count": 9,
   "metadata": {},
   "outputs": [
    {
     "ename": "TypeError",
     "evalue": "can only concatenate str (not \"int\") to str",
     "output_type": "error",
     "traceback": [
      "\u001b[1;31m---------------------------------------------------------------------------\u001b[0m",
      "\u001b[1;31mTypeError\u001b[0m                                 Traceback (most recent call last)",
      "Cell \u001b[1;32mIn[9], line 1\u001b[0m\n\u001b[1;32m----> 1\u001b[0m \u001b[38;5;124m'\u001b[39m\u001b[38;5;124mI have eaten\u001b[39m\u001b[38;5;124m'\u001b[39m \u001b[38;5;241m+\u001b[39m \u001b[38;5;241m99\u001b[39m \u001b[38;5;241m+\u001b[39m\u001b[38;5;124m'\u001b[39m\u001b[38;5;124mburritos.\u001b[39m\u001b[38;5;124m'\u001b[39m\n",
      "\u001b[1;31mTypeError\u001b[0m: can only concatenate str (not \"int\") to str"
     ]
    }
   ],
   "source": [
    "'I have eaten' + 99 +'burritos.'"
   ]
  },
  {
   "cell_type": "markdown",
   "metadata": {},
   "source": [
    "To fix this problem we can convert the integer value to string by using the sting conversion function str()."
   ]
  },
  {
   "cell_type": "code",
   "execution_count": 6,
   "metadata": {},
   "outputs": [
    {
     "data": {
      "text/plain": [
       "'I have eaten 99burritos'"
      ]
     },
     "execution_count": 6,
     "metadata": {},
     "output_type": "execute_result"
    }
   ],
   "source": [
    "# hence Now \n",
    "'I have eaten ' + str(99) +'burritos.'"
   ]
  },
  {
   "cell_type": "markdown",
   "metadata": {},
   "source": [
    "## Question 11\n",
    "Write a Python program to calculate the sum of two numbers and print the result.\n",
    "gative, or zero."
   ]
  },
  {
   "cell_type": "code",
   "execution_count": 14,
   "metadata": {},
   "outputs": [
    {
     "name": "stdout",
     "output_type": "stream",
     "text": [
      "-30.5\n",
      "The number is negative\n"
     ]
    }
   ],
   "source": [
    "num1= 10\n",
    "num2 = 20\n",
    "\n",
    "sum = num1+num2\n",
    "\n",
    "print (sum)\n",
    "\n",
    "if (sum > 0):\n",
    "    print (\"The number is positive \")\n",
    "elif (sum <0):\n",
    "    print(\"The number is negative\")\n",
    "elif (sum==0):\n",
    "    print(\"the number is zero\")\n",
    "else :\n",
    "    print(\"the number is invald \")\n",
    "\n"
   ]
  },
  {
   "cell_type": "markdown",
   "metadata": {},
   "source": [
    "## Question 12\n",
    "Create a Python program that takes the user's name as input and prints a greeting message.\n",
    "\n"
   ]
  },
  {
   "cell_type": "code",
   "execution_count": 18,
   "metadata": {},
   "outputs": [
    {
     "name": "stdout",
     "output_type": "stream",
     "text": [
      "enter the name :priyanshu\n",
      "Hello  priyanshu  how are you ?\n"
     ]
    }
   ],
   "source": [
    "Name = input(\"enter the name :\")\n",
    "print(\"Hello  \" +  Name + \"  how are you ?\")"
   ]
  },
  {
   "cell_type": "markdown",
   "metadata": {},
   "source": [
    "## Question 13\n",
    "Write a Python program to calculate the area of a rectangle given its length and width. (Assume length and width are provided as inputs.)\n",
    "\n"
   ]
  },
  {
   "cell_type": "code",
   "execution_count": 22,
   "metadata": {},
   "outputs": [
    {
     "name": "stdout",
     "output_type": "stream",
     "text": [
      "enter the length of the Rectangle10\n",
      "enter the width of the Rectangle20\n",
      " The area of rectangle given its length and breadth is  200.0\n"
     ]
    }
   ],
   "source": [
    "length = float(input(\"enter the length of the Rectangle\"))\n",
    "width = float(input(\"enter the width of the Rectangle\"))\n",
    "\n",
    "area_rectangle = length*width\n",
    "\n",
    "print(\" The area of rectangle given its length and width is \" , area_rectangle )"
   ]
  },
  {
   "cell_type": "markdown",
   "metadata": {},
   "source": [
    "## Question 14\n",
    "Create a Python program that asks the user for their age and prints out a message saying whether they are a child, teenager, or adult based on their age.\n",
    "\n"
   ]
  },
  {
   "cell_type": "code",
   "execution_count": 24,
   "metadata": {},
   "outputs": [
    {
     "name": "stdout",
     "output_type": "stream",
     "text": [
      "enter the age of the user20\n",
      "the user is Adult \n"
     ]
    }
   ],
   "source": [
    "Age = int( input ( \"enter the age of the user\"))\n",
    "\n",
    "if (Age <13 ):\n",
    "    print(\" the user is child\")\n",
    "elif (Age >=13 and Age <=19):\n",
    "    print (\"the user is Teenager\")\n",
    "else:\n",
    "    print(\"the user is Adult \")"
   ]
  },
  {
   "cell_type": "markdown",
   "metadata": {},
   "source": [
    "## Question 15\n",
    "Write a Python program to convert temperature from Celsius to Fahrenheit. (Assume Celsius temperature is provided as input.)\n",
    "\n"
   ]
  },
  {
   "cell_type": "code",
   "execution_count": 25,
   "metadata": {},
   "outputs": [
    {
     "name": "stdout",
     "output_type": "stream",
     "text": [
      "Enter temperature in Celsius: 25\n",
      "Temperature in Fahrenheit: 77.0\n"
     ]
    }
   ],
   "source": [
    "celsius = float(input(\"Enter temperature in Celsius: \"))\n",
    "fahrenheit = (celsius * 9/5) + 32\n",
    "print(\"Temperature in Fahrenheit:\", fahrenheit)"
   ]
  },
  {
   "cell_type": "markdown",
   "metadata": {},
   "source": [
    "## Question 16\n",
    "Create a Python program that takes the radius of a circle as input and calculates its area. (Assume the value of pi is 3.14.)\n",
    "\n"
   ]
  },
  {
   "cell_type": "code",
   "execution_count": 26,
   "metadata": {},
   "outputs": [
    {
     "name": "stdout",
     "output_type": "stream",
     "text": [
      "Enter the radius of the circle: 24\n",
      "The area of the circle with radius 24.0 is: 1808.64\n"
     ]
    }
   ],
   "source": [
    "radius = float(input(\"Enter the radius of the circle: \"))\n",
    "pi = 3.14\n",
    "area = pi * (radius ** 2)\n",
    "print(\"The area of the circle with radius\", radius, \"is:\", area)"
   ]
  },
  {
   "cell_type": "markdown",
   "metadata": {},
   "source": [
    "## Question 17\n",
    "Write a Python program to find the maximum of two numbers entered by the user.\n",
    "\n"
   ]
  },
  {
   "cell_type": "code",
   "execution_count": 27,
   "metadata": {},
   "outputs": [
    {
     "name": "stdout",
     "output_type": "stream",
     "text": [
      "Enter the first number: 14\n",
      "Enter the second number: 26\n",
      "The maximum of 14.0 and 26.0 is: 26.0\n"
     ]
    }
   ],
   "source": [
    "num1 = float(input(\"Enter the first number: \"))\n",
    "num2 = float(input(\"Enter the second number: \"))\n",
    "\n",
    "maximum = max(num1, num2)\n",
    "print(\"The maximum of\", num1, \"and\", num2, \"is:\", maximum)"
   ]
  },
  {
   "cell_type": "markdown",
   "metadata": {},
   "source": [
    "## Question 18\n",
    "Create a Python program that asks the user to enter two numbers and prints out their product.\n",
    "\n"
   ]
  },
  {
   "cell_type": "code",
   "execution_count": 28,
   "metadata": {},
   "outputs": [
    {
     "name": "stdout",
     "output_type": "stream",
     "text": [
      "Enter the first number: 23\n",
      "Enter the second number: 24\n",
      "The product of 23.0 and 24.0 is: 552.0\n"
     ]
    }
   ],
   "source": [
    "num1 = float(input(\"Enter the first number: \"))\n",
    "num2 = float(input(\"Enter the second number: \"))\n",
    "\n",
    "product = num1 * num2\n",
    "\n",
    "print(\"The product of\", num1, \"and\", num2, \"is:\", product)\n"
   ]
  },
  {
   "cell_type": "markdown",
   "metadata": {},
   "source": [
    "## Question 19\n",
    "Write a Python program that prompts the user to enter a number and then prints whether the number is positive, negative, or zero."
   ]
  },
  {
   "cell_type": "code",
   "execution_count": 30,
   "metadata": {},
   "outputs": [
    {
     "name": "stdout",
     "output_type": "stream",
     "text": [
      "enter the number20\n",
      "The number is positive \n"
     ]
    }
   ],
   "source": [
    "num = int(input(\"enter the number\"))\n",
    "\n",
    "\n",
    "if (num> 0):\n",
    "    print (\"The number is positive \")\n",
    "elif (num <0):\n",
    "    print(\"The number is negative\")\n",
    "elif (num==0):\n",
    "    print(\"the number is zero\")\n",
    "else :\n",
    "    print(\"the number is invald \")"
   ]
  },
  {
   "cell_type": "code",
   "execution_count": 30,
   "metadata": {},
   "outputs": [
    {
     "name": "stdout",
     "output_type": "stream",
     "text": [
      "enter the number20\n",
      "The number is positive \n"
     ]
    }
   ],
   "source": [
    "num = int(input(\"enter the number\"))\n",
    "\n",
    "\n",
    "if (num> 0):\n",
    "    print (\"The number is positive \")\n",
    "elif (num <0):\n",
    "    print(\"The number is negative\")\n",
    "elif (num==0):\n",
    "    print(\"the number is zero\")\n",
    "else :\n",
    "    print(\"the number is invald \")"
   ]
  }
 ],
 "metadata": {
  "anaconda-cloud": {},
  "kernelspec": {
   "display_name": "Python 3 (ipykernel)",
   "language": "python",
   "name": "python3"
  },
  "language_info": {
   "codemirror_mode": {
    "name": "ipython",
    "version": 3
   },
   "file_extension": ".py",
   "mimetype": "text/x-python",
   "name": "python",
   "nbconvert_exporter": "python",
   "pygments_lexer": "ipython3",
   "version": "3.11.5"
  }
 },
 "nbformat": 4,
 "nbformat_minor": 4
}
